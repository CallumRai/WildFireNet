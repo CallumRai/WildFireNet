{
 "cells": [
  {
   "cell_type": "markdown",
   "metadata": {},
   "source": [
    "# Predicting Wildfires in America"
   ]
  },
  {
   "cell_type": "code",
   "execution_count": null,
   "metadata": {
    "pycharm": {
     "is_executing": false
    }
   },
   "outputs": [],
   "source": [
    "import keras\n",
    "import os\n",
    "import pandas as pd\n",
    "from predict import *\n",
    "\n",
    "data_path = os.path.dirname(globals()['_dh'][0])+\"\\\\data\"\n",
    "model = keras.models.load_model(data_path + \"\\\\wildfire_net_v1.h5\")\n",
    "df_predict = pd.read_csv(data_path + \"\\\\prediction.csv\", index_col=0)\n",
    "df_coord = pd.read_csv(data_path + \"\\\\coord\\\\Geocodes_USA_with_Counties.csv\", index_col=0)"
   ]
  },
  {
   "cell_type": "markdown",
   "metadata": {},
   "source": [
    "# Prediction by geocode\n",
    "Input latitude and longitude in the USA, and date in numerical form (e.g. January: 1)"
   ]
  },
  {
   "cell_type": "code",
   "execution_count": null,
   "metadata": {
    "pycharm": {
     "is_executing": false
    }
   },
   "outputs": [],
   "source": [
    "input_predict(df_predict, model)"
   ]
  },
  {
   "cell_type": "markdown",
   "metadata": {},
   "source": [
    "# Prediction by zip\n",
    "Input standard zip code in the USA, and date in numerical form (e.g. January: 1)"
   ]
  },
  {
   "cell_type": "code",
   "execution_count": null,
   "metadata": {
    "pycharm": {
     "is_executing": false
    }
   },
   "outputs": [],
   "source": [
    "input_zip_predict(df_coord, df_predict, model)"
   ]
  }
 ],
 "metadata": {
  "kernelspec": {
   "display_name": "Python 3",
   "language": "python",
   "name": "python3"
  },
  "language_info": {
   "codemirror_mode": {
    "name": "ipython",
    "version": 3
   },
   "file_extension": ".py",
   "mimetype": "text/x-python",
   "name": "python",
   "nbconvert_exporter": "python",
   "pygments_lexer": "ipython3",
   "version": "3.7.3"
  }
 },
 "nbformat": 4,
 "nbformat_minor": 2
}
