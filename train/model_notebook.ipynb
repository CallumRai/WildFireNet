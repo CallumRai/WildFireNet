{
  "nbformat": 4,
  "nbformat_minor": 0,
  "metadata": {
    "kernelspec": {
      "name": "python3",
      "display_name": "Python 3.7",
      "language": "python"
    },
    "language_info": {
      "name": "python",
      "version": "3.7.9",
      "mimetype": "text/x-python",
      "codemirror_mode": {
        "name": "ipython",
        "version": 3
      },
      "pygments_lexer": "ipython3",
      "nbconvert_exporter": "python",
      "file_extension": ".py"
    },
    "colab": {
      "name": "wildfire_prediction_model.ipynb",
      "provenance": [],
      "collapsed_sections": []
    }
  },
  "cells": [
    {
      "cell_type": "markdown",
      "metadata": {
        "id": "WoiPeDsCiLze"
      },
      "source": [
        "<h1>The Goal</h1>\n",
        "\n",
        "This notebook contains an attempt made by Callum Rai, Hollie Parry, and Joshua Heckroodt, three students versus climate change, to provide relief from natural disasters to communities across the world. In particular, given the incline in average global temperature we've seen over the course of the last several years (roughly 0.18 degrees Celcius every decade since 1981), regions the likes of Australia and California (in the United States) have become particularly susceptible to wildfire instances, instances the likes of which the model described by this notebook will attempt to predict to super-human degress of accuracy."
      ]
    },
    {
      "cell_type": "markdown",
      "metadata": {
        "id": "DOvYGYGyiLzk"
      },
      "source": [
        "<h1>Dataset Specification</h1>\n",
        "\n",
        "Of course, the dataset we are given contains a total of nearly 1.5 million different items of climate data. This dataset, however, is unfortunately subject to a notable class imbalance, and hence our model will be trained on a class-balanced selection of roughly 300,000 different items of climate data from the aforementioned dataset, with the hopes of identifying an underlying pattern said model can then use to make accurate predictions in the future. Relevant attributes of each item of data includes\n",
        "<ol>\n",
        "    <li><code>lat</code>, the latitude in question.</li>\n",
        "    <li><code>lon</code>, the longitude in question.</li>\n",
        "    <li><code>year</code>, <code>month</code>, <code>day</code>, the three items of data used for specifying the date at the time of recording.</li>\n",
        "    <li><code>precipitationAverage</code>, the average daily precipitation at the time of recording.</li>\n",
        "    <li><code>temperatureAverageMax</code>, <code>temperatureAverageMin</code>, <code>temperatureMean</code>, <code>temperatureRecordMax</code>, <code>temperatureRecordMin</code>, the five items of data used to describe, as wholly as possible, the temperature at the time of recording.</li>\n",
        "</ol>\n",
        "It should be noted also that our data is the consequence of recordings made in the destinations across the United States, exclusively, including some states notoriously subject to some of the world's most rampant wildfires, the likes of California, and the Carolinas. Below we introduce a series of cells used to visualize the data it its entirety (after importing a series of relevant modules and/or methods)."
      ]
    },
    {
      "cell_type": "code",
      "metadata": {
        "id": "zS2IpD_MiLzl"
      },
      "source": [
        "import seaborn as sb\n",
        "import numpy as np\n",
        "from sklearn.model_selection import train_test_split\n",
        "from tensorflow.keras.models import Sequential\n",
        "from tensorflow.keras.layers.experimental.preprocessing import Normalization\n",
        "from tensorflow.keras.layers import Input\n",
        "from tensorflow.keras.layers import Dense\n",
        "from tensorflow.keras.layers import Dropout\n",
        "from tensorflow.keras.callbacks import LearningRateScheduler\n",
        "from tensorflow.keras import regularizers\n",
        "\n",
        "%matplotlib inline"
      ],
      "execution_count": 97,
      "outputs": []
    },
    {
      "cell_type": "code",
      "metadata": {
        "id": "ywgPimx_iLzq"
      },
      "source": [
        "#LOAD CELL 1\n",
        "import pandas as pd\n",
        "\n",
        "df = pd.read_csv(relevant_path)"
      ],
      "execution_count": 98,
      "outputs": []
    },
    {
      "cell_type": "markdown",
      "metadata": {
        "id": "ydqq35_siLzs"
      },
      "source": [
        "Let us start by investigating some simple properties of our dataset, like its headers, shape, the frequency of some relevant output features, and a description of our dataset."
      ]
    },
    {
      "cell_type": "code",
      "metadata": {
        "id": "nVPzJVX0iLzt",
        "outputId": "f813ceea-dc79-479b-91fd-dfc99431576f",
        "colab": {
          "base_uri": "https://localhost:8080/",
          "height": 411
        }
      },
      "source": [
        "df.head()"
      ],
      "execution_count": 99,
      "outputs": [
        {
          "output_type": "execute_result",
          "data": {
            "text/html": [
              "<div>\n",
              "<style scoped>\n",
              "    .dataframe tbody tr th:only-of-type {\n",
              "        vertical-align: middle;\n",
              "    }\n",
              "\n",
              "    .dataframe tbody tr th {\n",
              "        vertical-align: top;\n",
              "    }\n",
              "\n",
              "    .dataframe thead th {\n",
              "        text-align: right;\n",
              "    }\n",
              "</style>\n",
              "<table border=\"1\" class=\"dataframe\">\n",
              "  <thead>\n",
              "    <tr style=\"text-align: right;\">\n",
              "      <th></th>\n",
              "      <th>Unnamed: 0</th>\n",
              "      <th>Unnamed: 0.1</th>\n",
              "      <th>lat</th>\n",
              "      <th>lon</th>\n",
              "      <th>year</th>\n",
              "      <th>month</th>\n",
              "      <th>day</th>\n",
              "      <th>date</th>\n",
              "      <th>fire_7</th>\n",
              "      <th>fire_30</th>\n",
              "      <th>precipitationAverage</th>\n",
              "      <th>temperatureAverageMax</th>\n",
              "      <th>temperatureAverageMin</th>\n",
              "      <th>temperatureMean</th>\n",
              "      <th>temperatureRecordMax</th>\n",
              "      <th>temperatureRecordMin</th>\n",
              "    </tr>\n",
              "  </thead>\n",
              "  <tbody>\n",
              "    <tr>\n",
              "      <th>0</th>\n",
              "      <td>0</td>\n",
              "      <td>((34.0, -81.0), datetime.date(2016, 3, 27))</td>\n",
              "      <td>34.0</td>\n",
              "      <td>-81.0</td>\n",
              "      <td>2016.0</td>\n",
              "      <td>3.0</td>\n",
              "      <td>27.0</td>\n",
              "      <td>2016-03-27</td>\n",
              "      <td>0.0</td>\n",
              "      <td>1.0</td>\n",
              "      <td>3.30</td>\n",
              "      <td>23.0</td>\n",
              "      <td>9.0</td>\n",
              "      <td>17.0</td>\n",
              "      <td>31</td>\n",
              "      <td>-6.0</td>\n",
              "    </tr>\n",
              "    <tr>\n",
              "      <th>1</th>\n",
              "      <td>1</td>\n",
              "      <td>((41.0, -97.0), datetime.date(2016, 2, 22))</td>\n",
              "      <td>41.0</td>\n",
              "      <td>-97.0</td>\n",
              "      <td>2016.0</td>\n",
              "      <td>2.0</td>\n",
              "      <td>22.0</td>\n",
              "      <td>2016-02-22</td>\n",
              "      <td>0.0</td>\n",
              "      <td>0.0</td>\n",
              "      <td>0.51</td>\n",
              "      <td>5.0</td>\n",
              "      <td>-7.0</td>\n",
              "      <td>-1.0</td>\n",
              "      <td>24</td>\n",
              "      <td>-22.0</td>\n",
              "    </tr>\n",
              "    <tr>\n",
              "      <th>2</th>\n",
              "      <td>2</td>\n",
              "      <td>((31.0, -95.0), datetime.date(2017, 10, 31))</td>\n",
              "      <td>31.0</td>\n",
              "      <td>-95.0</td>\n",
              "      <td>2017.0</td>\n",
              "      <td>10.0</td>\n",
              "      <td>31.0</td>\n",
              "      <td>2017-10-31</td>\n",
              "      <td>1.0</td>\n",
              "      <td>1.0</td>\n",
              "      <td>3.56</td>\n",
              "      <td>25.0</td>\n",
              "      <td>10.0</td>\n",
              "      <td>17.0</td>\n",
              "      <td>32</td>\n",
              "      <td>-3.0</td>\n",
              "    </tr>\n",
              "    <tr>\n",
              "      <th>3</th>\n",
              "      <td>3</td>\n",
              "      <td>((31.0, -92.0), datetime.date(2019, 8, 10))</td>\n",
              "      <td>31.0</td>\n",
              "      <td>-92.0</td>\n",
              "      <td>2019.0</td>\n",
              "      <td>8.0</td>\n",
              "      <td>10.0</td>\n",
              "      <td>2019-08-10</td>\n",
              "      <td>0.0</td>\n",
              "      <td>1.0</td>\n",
              "      <td>3.05</td>\n",
              "      <td>34.0</td>\n",
              "      <td>22.0</td>\n",
              "      <td>28.0</td>\n",
              "      <td>38</td>\n",
              "      <td>15.0</td>\n",
              "    </tr>\n",
              "    <tr>\n",
              "      <th>4</th>\n",
              "      <td>4</td>\n",
              "      <td>((31.0, -96.0), datetime.date(2017, 5, 23))</td>\n",
              "      <td>31.0</td>\n",
              "      <td>-96.0</td>\n",
              "      <td>2017.0</td>\n",
              "      <td>5.0</td>\n",
              "      <td>23.0</td>\n",
              "      <td>2017-05-23</td>\n",
              "      <td>1.0</td>\n",
              "      <td>0.0</td>\n",
              "      <td>3.56</td>\n",
              "      <td>31.0</td>\n",
              "      <td>18.0</td>\n",
              "      <td>24.0</td>\n",
              "      <td>36</td>\n",
              "      <td>11.0</td>\n",
              "    </tr>\n",
              "  </tbody>\n",
              "</table>\n",
              "</div>"
            ],
            "text/plain": [
              "   Unnamed: 0  ... temperatureRecordMin\n",
              "0           0  ...                 -6.0\n",
              "1           1  ...                -22.0\n",
              "2           2  ...                 -3.0\n",
              "3           3  ...                 15.0\n",
              "4           4  ...                 11.0\n",
              "\n",
              "[5 rows x 16 columns]"
            ]
          },
          "metadata": {
            "tags": []
          },
          "execution_count": 99
        }
      ]
    },
    {
      "cell_type": "code",
      "metadata": {
        "id": "lNNp9ACJiLzx",
        "outputId": "78d42b9e-910e-4422-d30a-83c8ec96866f",
        "colab": {
          "base_uri": "https://localhost:8080/"
        }
      },
      "source": [
        "print(\"Your dataset has shape \"+str(df.shape))"
      ],
      "execution_count": 100,
      "outputs": [
        {
          "output_type": "stream",
          "text": [
            "Your dataset has shape (303901, 16)\n"
          ],
          "name": "stdout"
        }
      ]
    },
    {
      "cell_type": "code",
      "metadata": {
        "scrolled": true,
        "id": "mKBos9V8iLzz",
        "outputId": "add6dfae-4104-4a4d-c03f-c5d44d2bc9c8",
        "colab": {
          "base_uri": "https://localhost:8080/",
          "height": 302
        }
      },
      "source": [
        "(y,y_true)=(df['fire_7'].value_counts(),df[\"fire_7\"][df[\"fire_7\"]==True])\n",
        "data={'fire_7':['true','false'],\n",
        "     'frequency':[y[0],y[1]]}\n",
        "\n",
        "sb.barplot(x='fire_7',y='frequency',data=data)\n",
        "\n",
        "print(\"Percentage of wildfire intances (active 7 days after recording), given the above data: \"+str(100*(y_true.shape[0]/df.shape[0]))+\"%, as seen below.\")\n"
      ],
      "execution_count": 101,
      "outputs": [
        {
          "output_type": "stream",
          "text": [
            "Percentage of wildfire intances (active 7 days after recording), given the above data: 41.201904567605894%, as seen below.\n"
          ],
          "name": "stdout"
        },
        {
          "output_type": "display_data",
          "data": {
            "image/png": "[encoded data removed]",
            "text/plain": [
              "<Figure size 432x288 with 1 Axes>"
            ]
          },
          "metadata": {
            "tags": [],
            "needs_background": "light"
          }
        }
      ]
    },
    {
      "cell_type": "markdown",
      "metadata": {
        "id": "ugekIAhHiLz2"
      },
      "source": [
        "From the above plot, it can be seen how our class imbalance has been significantly reduced, as required. From here, let us turn our attention to trends within the data. In particular, we require something of an identifiable pattern present in our data for us to have faith that our (eventual) model will be able to produce meaningful predictions, given the aforementioned data. We will investigate the correlation between <code>fire_7</code> and\n",
        "<ol>\n",
        "    <li><code>month</code></li>\n",
        "    <li><code>precipitationAverage</code></li>\n",
        "    <li><code>temperatureAverageMax</code></li>\n",
        "    <li><code>temperatureMean</code></li>\n",
        "</ol>\n",
        "in said order."
      ]
    },
    {
      "cell_type": "code",
      "metadata": {
        "id": "-ZoTwWkuiLz3",
        "outputId": "1a7c13e2-10a5-4e84-9bf9-1ed1ab3402b5",
        "colab": {
          "base_uri": "https://localhost:8080/",
          "height": 254
        }
      },
      "source": [
        "df.groupby([\"month\",\"fire_7\"]).size().unstack().plot(kind=\"bar\",stacked=True,figsize=(9,3))"
      ],
      "execution_count": 102,
      "outputs": [
        {
          "output_type": "execute_result",
          "data": {
            "text/plain": [
              "<matplotlib.axes._subplots.AxesSubplot at 0x7fb77b273908>"
            ]
          },
          "metadata": {
            "tags": []
          },
          "execution_count": 102
        },
        {
          "output_type": "display_data",
          "data": {
            "image/png": "[encoded data removed]",
            "text/plain": [
              "<Figure size 648x216 with 1 Axes>"
            ]
          },
          "metadata": {
            "tags": [],
            "needs_background": "light"
          }
        }
      ]
    },
    {
      "cell_type": "code",
      "metadata": {
        "id": "QyS2NoKUiLz5",
        "outputId": "e71a894e-8a2c-4912-dad4-17eec516486a",
        "colab": {
          "base_uri": "https://localhost:8080/",
          "height": 365
        }
      },
      "source": [
        "df.groupby([\"precipitationAverage\",\"fire_30\"]).size().unstack().plot(kind=\"bar\",stacked=True,figsize=(30,10))"
      ],
      "execution_count": 103,
      "outputs": [
        {
          "output_type": "execute_result",
          "data": {
            "text/plain": [
              "<matplotlib.axes._subplots.AxesSubplot at 0x7fb768a6c4a8>"
            ]
          },
          "metadata": {
            "tags": []
          },
          "execution_count": 103
        },
        {
          "output_type": "display_data",
          "data": {
            "image/png": "[encoded data removed]",
            "text/plain": [
              "<Figure size 2160x720 with 1 Axes>"
            ]
          },
          "metadata": {
            "tags": [],
            "needs_background": "light"
          }
        }
      ]
    },
    {
      "cell_type": "code",
      "metadata": {
        "id": "x8Xsf8wSiLz9",
        "outputId": "8ee68805-566e-40ce-8ad7-13f34c4d329e",
        "colab": {
          "base_uri": "https://localhost:8080/",
          "height": 364
        }
      },
      "source": [
        "df.groupby([\"temperatureAverageMax\",\"fire_30\"]).size().unstack().plot(kind=\"bar\",stacked=True,figsize=(30,10))"
      ],
      "execution_count": 104,
      "outputs": [
        {
          "output_type": "execute_result",
          "data": {
            "text/plain": [
              "<matplotlib.axes._subplots.AxesSubplot at 0x7fb76ff075f8>"
            ]
          },
          "metadata": {
            "tags": []
          },
          "execution_count": 104
        },
        {
          "output_type": "display_data",
          "data": {
            "image/png": "[encoded data removed]",
            "text/plain": [
              "<Figure size 2160x720 with 1 Axes>"
            ]
          },
          "metadata": {
            "tags": [],
            "needs_background": "light"
          }
        }
      ]
    },
    {
      "cell_type": "code",
      "metadata": {
        "id": "cNK8ABfaiL0A",
        "outputId": "525f44e4-facf-43d3-e29c-7896129e6041",
        "colab": {
          "base_uri": "https://localhost:8080/",
          "height": 364
        }
      },
      "source": [
        "df.groupby([\"temperatureMean\",\"fire_30\"]).size().unstack().plot(kind=\"bar\",stacked=True,figsize=(30,10))"
      ],
      "execution_count": 105,
      "outputs": [
        {
          "output_type": "execute_result",
          "data": {
            "text/plain": [
              "<matplotlib.axes._subplots.AxesSubplot at 0x7fb7712044a8>"
            ]
          },
          "metadata": {
            "tags": []
          },
          "execution_count": 105
        },
        {
          "output_type": "display_data",
          "data": {
            "image/png": "[encoded data removed]",
            "text/plain": [
              "<Figure size 2160x720 with 1 Axes>"
            ]
          },
          "metadata": {
            "tags": [],
            "needs_background": "light"
          }
        }
      ]
    },
    {
      "cell_type": "markdown",
      "metadata": {
        "id": "DHu4SCWJiL0C"
      },
      "source": [
        "There are a couple of key observations we should make from the plots presented above. Firstly, note that there doesn't appear to be too strong of a correlation between the time of year and the likelihood of a wildfire occuring (and being active a week after recording the relevant data). It should be noted that this isn't necessarily a consequence of the seasonal difference between the northern and southern hemispheres, since our data is accrued from locations in the northern hemipshere, exclusively.\n",
        "\n",
        "That being said, though, there does appear to be a striking correlation between the frequency of wildfires (and, again, being active a week after recording), and all of the average daily precipitation at the time of recording, the average daily maximum temperature at the time of recording, and the average daily temperature at the time of recording. This bodes well for our ability to model the above data. For this reason, we advance now to our preprocessing of the data.\n",
        "\n",
        "<h1>Preprocessing the Data</h1>\n",
        "<h2>Combining Features</h2>\n",
        "\n",
        "The first step we will execute in preprocessing our data involves combining particular features, so as to introduce a series of more intricate features our model may utilize to produce wildfire predictions. In particular, we perform the following combinations.\n",
        "<ul>\n",
        "    <li>Encode <code>month</code> in accordance with the one-hot encoding format. That is, as opposed to encoding the <code>month</code> as a single integer value between 1 and 12, we will now encode it using a 12-dimensional vector, whose elements are all 0, with the exception of a single 1, whose index corresponds to the value <code>month</code> assumed, prior to our conversion to one-hot encoding.</li>\n",
        "    <li>Element-wise multiplication of each <code>month</code> encoding the corresponding <code>lat</code> attribute (a simple scalar quantity) and the corresponding <code>lon</code> attribute (again, a simple scalar quantity). This type of combination combines locational and seasonal data, to ensure that these two attributes do not interact <b>independently</b> with the model's prediction capacity, thereby making it easier for the model to identify particular patterns (as we'd like for it to do).</li>\n",
        "    <li>We repeat the above means of combining features, this time utilizing <code>lat</code> and <code>lon</code>, <code>lat</code> and <code>precipitationAverage</code>, <code>lon</code> and <code>precipitationAverage</code>, <code>lat</code> and <code>temperatureMean</code>, <code>lon</code> and <code>temperatureMean</code>, omitting the process of converting to one-hot encoding, where relevant.\n",
        "</ul>\n",
        "The process described above is rather much to include in this notebook, and as a consequence will be included as a separate block of code. We have instead the following cell that simply loads in the aforementioned data using the <code>Pandas</code> library."
      ]
    },
    {
      "cell_type": "code",
      "metadata": {
        "id": "ecrgPLTjiL0C"
      },
      "source": [
        "#LOAD CELL 2\n",
        "df_train = pd.read_csv(relevant_path)"
      ],
      "execution_count": 106,
      "outputs": []
    },
    {
      "cell_type": "markdown",
      "metadata": {
        "id": "TIH9fkrPiL0F"
      },
      "source": [
        "From here, we advance to our definitions of the response and feature matrices.\n",
        "\n",
        "<h2>Defining the Response and Feature Vectors</h2>\n",
        "\n",
        "We start by initializing our response vectors, <code>Y</code>, as well as our feature vectors, <code>X</code>, (which we will do using none other than the <code>NumPy</code> library), in this order. We have the following."
      ]
    },
    {
      "cell_type": "code",
      "metadata": {
        "id": "2-7_QAHsiL0F",
        "outputId": "da75934d-385c-4b28-eed2-bc9d3dcd90ee",
        "colab": {
          "base_uri": "https://localhost:8080/"
        }
      },
      "source": [
        "Y=np.array(df_train[[\"fire_7\",\"fire_30\"]],dtype=np.uint8)\n",
        "print(\"Our response matrix is of shape \"+str(Y.shape))"
      ],
      "execution_count": 107,
      "outputs": [
        {
          "output_type": "stream",
          "text": [
            "Our response matrix is of shape (303901, 2)\n"
          ],
          "name": "stdout"
        }
      ]
    },
    {
      "cell_type": "markdown",
      "metadata": {
        "id": "IPAOBfwAiL0I"
      },
      "source": [
        "Note, from the above, that each response vector is comprised of two elements: an element corresponding to the occurence of a wildfire active 7 days after recording the relevant data, and another element corresponding to the occurence of a wildfire active 30 days after recording the relevant data. We will see how this form of our response vector impacts our loss function in due course."
      ]
    },
    {
      "cell_type": "code",
      "metadata": {
        "id": "6q-rWJvKiL0I",
        "outputId": "b2f7dd85-bdf9-440e-a47e-c49f636f19f0",
        "colab": {
          "base_uri": "https://localhost:8080/"
        }
      },
      "source": [
        "X=np.array(df_train[[\"lat\",\"lon\",\n",
        "                     \"year\",\"day\",\n",
        "                     \"precipitationAverage\",\n",
        "                     \"temperatureAverageMax\",\"temperatureAverageMin\",\n",
        "                     \"temperatureMean\",\n",
        "                     \"temperatureRecordMax\",\"temperatureRecordMin\",\n",
        "                     \"month_1.0\",\n",
        "                     \"month_2.0\",\n",
        "                     \"month_3.0\",\n",
        "                     \"month_4.0\",\n",
        "                     \"month_5.0\",\n",
        "                     \"month_6.0\",\n",
        "                     \"month_7.0\",\n",
        "                     \"month_8.0\",\n",
        "                     \"month_9.0\",\n",
        "                     \"month_10.0\",\n",
        "                     \"month_11.0\",\n",
        "                     \"month_12.0\",\n",
        "                     \"lat_lon\",\n",
        "                     \"lat_precipitationAverage\",\"lat_temperatureMean\",\n",
        "                     \"lon_precipitationAverage\",\"lon_temperatureMean\",\n",
        "                     \"month_1.0_lat\",\"month_1.0_lon\",\n",
        "                     \"month_2.0_lat\",\"month_2.0_lon\",\n",
        "                     \"month_3.0_lat\",\"month_3.0_lon\",\n",
        "                     \"month_4.0_lat\",\"month_4.0_lon\",\n",
        "                     \"month_5.0_lat\",\"month_5.0_lon\",\n",
        "                     \"month_6.0_lat\",\"month_6.0_lon\",\n",
        "                     \"month_7.0_lat\",\"month_7.0_lon\",\n",
        "                     \"month_8.0_lat\",\"month_8.0_lon\",\n",
        "                     \"month_9.0_lat\",\"month_9.0_lon\",\n",
        "                     \"month_10.0_lat\",\"month_10.0_lon\",\n",
        "                     \"month_11.0_lat\",\"month_11.0_lon\",\n",
        "                     \"month_12.0_lat\",\"month_12.0_lon\"]],dtype=np.float64)\n",
        "print(\"Our feature matrix is of shape \"+str(X.shape))"
      ],
      "execution_count": 108,
      "outputs": [
        {
          "output_type": "stream",
          "text": [
            "Our feature matrix is of shape (303901, 51)\n"
          ],
          "name": "stdout"
        }
      ]
    },
    {
      "cell_type": "markdown",
      "metadata": {
        "id": "ZQtFvJvRiL0K"
      },
      "source": [
        "<h2>Splitting the Data into Train and Test (Validation) Sets</h2>\n",
        "\n",
        "We utilize the <code>sklearn</code> library for this purpose. In particular, we utilize the <code>train_test_split</code> method. Note that, since we have roughly 300,000 items of data in our dataset, if we utilize as little as $5\\%$ of our dataset as a test set, we'd still end up with a test set of roughly 15,000 items of data. We hence abide by this split to arrive at the following call."
      ]
    },
    {
      "cell_type": "code",
      "metadata": {
        "id": "TpQCWVfziL0L",
        "outputId": "ef80caad-9e00-4b89-c025-e7340e7aa82f",
        "colab": {
          "base_uri": "https://localhost:8080/"
        }
      },
      "source": [
        "X_train,X_test,Y_train,Y_test=train_test_split(X,Y,test_size=0.05,random_state=42)\n",
        "print(\"Our training response matrix is of shape \"+str(Y_train.shape))\n",
        "print(\"Our training feature matrix is of shape \"+str(X_train.shape))\n",
        "print(\"Our test response matrix is of shape \"+str(Y_test.shape))\n",
        "print(\"Our test feature matrix is of shape \"+str(X_test.shape))"
      ],
      "execution_count": 109,
      "outputs": [
        {
          "output_type": "stream",
          "text": [
            "Our training response matrix is of shape (288705, 2)\n",
            "Our training feature matrix is of shape (288705, 51)\n",
            "Our test response matrix is of shape (15196, 2)\n",
            "Our test feature matrix is of shape (15196, 51)\n"
          ],
          "name": "stdout"
        }
      ]
    },
    {
      "cell_type": "markdown",
      "metadata": {
        "id": "bbJ2zNOBiL0N"
      },
      "source": [
        "Note that, in particular, our test set is comprised of 15,196 elements of our dataset.\n",
        "\n",
        "<h1>Defining the Model</h1>\n",
        "The following list specifies the model in its current state. Of course, deep learning is a highly iterative process, and as a consequence our model may enjoy several renditions in the future that result in even greater performance than enabled by the current hyperparameters.\n",
        "<ul>\n",
        "    <li>\n",
        "<h2>Architecture and Activation Functions</h2>\n",
        "        \n",
        "Firstly, we note that our model will assume the form of a fully connected deep artificial neural network. Given the shape of our feature matrix, we require 21 nodes in our input layer, in addition to 6 hidden layers, with hidden nodes 64, 32, 16, 16, 8, and 4, respectively (we use this many hidden layers to ensure that our model has the infrastructure necessary to deal with the potential complexity of the data at hand). Our output layer is, of course, comprised of 2 nodes.\n",
        "\n",
        "Our model assumes that the problem at hand may be regarded as a <b>binary classification</b> problem, and hence we utilize the sigmoid activation function in the final layer of our network. For each of the other layers, though, we will utilize the ReLU activation function, given its resistance to vanishing gradients.\n",
        "    </li>\n",
        "    <li>\n",
        "<h2>Loss Function, Metrics, and other Hyperparameters</h2>\n",
        "\n",
        "We will utilize the binary cross-entropy loss function (generalized to response vectors with several components, as opposed to scalar quantities). We will monitor the value the aforementioned loss function assumes (as well as the accuracy of our model's predictions) thoughout the duration of the training procedure. We will also make use of the following.\n",
        "        <ul>\n",
        "            <li>The adaptive moment estimation (\"<i>Adam</i>\") optimizer, with standard $\\beta_1$ and $\\beta_2$ values (0.9 and 0.999, respectively), and a particular learning rate schedule (which we will specify shortly).</li>\n",
        "            <li><i>He</i> weight initialization (since <code>keras</code> requires the following distinction, we note that we will utilize <i>He</i> normal intialization, in particular, as opposed to <i>He</i> uniform intialization, which we would utilize, instead, in the even of a shift in paradigm to a regression-type problem).</li>\n",
        "            <li>Normalization of the feature matrix.</li>\n",
        "            <li>We may also utilize dropout regularization (with a dropout likelihood of $20\\%$, or <code>0.2</code>) between the first and second fully connected layers, as well as between the second and third fully connected layers (as these are the layers with the greatest number of nodes), both to prevent overfitting, and reduce the likelihood of dead ReLU units.</li>\n",
        "            <li>Mini-batch gradient descent with a batch size of 256, in addition to a total of 50 epochs at each of the following learning rates: <code>1e-4</code>, <code>1e-5</code>, and an additional 100 epochs at a learning rate of <code>1e-6</code> (this is our learning rate schedule).</li>\n",
        "        </ul>\n",
        "From here, we are ready to introduce the code responsible for the training discussed above."
      ]
    },
    {
      "cell_type": "code",
      "metadata": {
        "id": "3qz-nRQ7iL0O",
        "outputId": "9c8904c9-de2f-459f-f4ef-a1fd727cb4ad",
        "colab": {
          "base_uri": "https://localhost:8080/"
        }
      },
      "source": [
        "def adjust_lr(epoch,lr):\n",
        "    '''\n",
        "    Description: this method is necessary for our implementation of LearningRateScheduler\n",
        "    to work.\n",
        "    \n",
        "    Inputs:\n",
        "    - epoch: the number corresponding to the current epoch\n",
        "    - lr: the current learning rate (we won't actually use this argument, but it is\n",
        "          syntaxically necessary)\n",
        "    \n",
        "    Outputs:\n",
        "    - lr_new: the new learning rate (which may be equal to lr)\n",
        "    '''\n",
        "    if epoch<50:\n",
        "        return 1e-4\n",
        "    elif 50<=epoch<100:\n",
        "        return 1e-4\n",
        "    elif 100<=epoch:\n",
        "        return 1e-5\n",
        "\n",
        "schedule_lr=LearningRateScheduler(adjust_lr)\n",
        "    \n",
        "#instantiate the model    \n",
        "wildfire_model=Sequential()\n",
        "\n",
        "#specify the feature vector shape\n",
        "wildfire_model.add(Input((51,)))\n",
        "\n",
        "#add normalization layer\n",
        "norm_layer=Normalization()\n",
        "norm_layer.adapt(X_train)\n",
        "wildfire_model.add(norm_layer)\n",
        "\n",
        "#add our hidden layers\n",
        "wildfire_model.add(Dense(64,activation=\"relu\",kernel_initializer=\"he_normal\"))\n",
        "wildfire_model.add(Dense(32,activation=\"relu\",kernel_initializer=\"he_normal\"))\n",
        "wildfire_model.add(Dense(16,activation=\"relu\",kernel_initializer=\"he_normal\"))\n",
        "wildfire_model.add(Dense(16,activation=\"relu\",kernel_initializer=\"he_normal\"))\n",
        "wildfire_model.add(Dense(8,activation=\"relu\",kernel_initializer=\"he_normal\"))\n",
        "wildfire_model.add(Dense(4,activation=\"relu\",kernel_initializer=\"he_normal\"))\n",
        "\n",
        "#add our output layer\n",
        "wildfire_model.add(Dense(2,activation=\"sigmoid\",kernel_initializer=\"he_normal\"))\n",
        "\n",
        "#compiling our model in accordance with the specified hyperparameters\n",
        "wildfire_model.compile(optimizer=\"adam\",loss=\"binary_crossentropy\",metrics=[\"accuracy\"])\n",
        "\n",
        "#summarizing our model thus far\n",
        "wildfire_model.summary()\n",
        "\n",
        "#training our model\n",
        "wildfire_model.fit(x=X_train,y=Y_train,batch_size=256,epochs=200,callbacks=[schedule_lr],validation_data=(X_test,Y_test))"
      ],
      "execution_count": 112,
      "outputs": [
        {
          "output_type": "stream",
          "text": [
            "Model: \"sequential_37\"\n",
            "_________________________________________________________________\n",
            "Layer (type)                 Output Shape              Param #   \n",
            "=================================================================\n",
            "normalization_25 (Normalizat (None, 51)                103       \n",
            "_________________________________________________________________\n",
            "dense_163 (Dense)            (None, 64)                3328      \n",
            "_________________________________________________________________\n",
            "dense_164 (Dense)            (None, 32)                2080      \n",
            "_________________________________________________________________\n",
            "dense_165 (Dense)            (None, 16)                528       \n",
            "_________________________________________________________________\n",
            "dense_166 (Dense)            (None, 16)                272       \n",
            "_________________________________________________________________\n",
            "dense_167 (Dense)            (None, 8)                 136       \n",
            "_________________________________________________________________\n",
            "dense_168 (Dense)            (None, 4)                 36        \n",
            "_________________________________________________________________\n",
            "dense_169 (Dense)            (None, 2)                 10        \n",
            "=================================================================\n",
            "Total params: 6,493\n",
            "Trainable params: 6,390\n",
            "Non-trainable params: 103\n",
            "_________________________________________________________________\n",
            "Epoch 1/200\n",
            "1128/1128 [==============================] - 3s 2ms/step - loss: 0.6414 - accuracy: 0.3793 - val_loss: 0.6273 - val_accuracy: 0.4245\n",
            "Epoch 200/200\n",
            "1128/1128 [==============================] - 3s 2ms/step - loss: 0.5696 - accuracy: 0.5552 - val_loss: 0.5715 - val_accuracy: 0.5562\n"
          ],
          "name": "stdout"
        },
        {
          "output_type": "execute_result",
          "data": {
            "text/plain": [
              "<tensorflow.python.keras.callbacks.History at 0x7fb770970780>"
            ]
          },
          "metadata": {
            "tags": []
          },
          "execution_count": 112
        }
      ]
    },
    {
      "cell_type": "markdown",
      "metadata": {
        "id": "tPTNuw7-13mg"
      },
      "source": [
        "From here, we may save our model."
      ]
    },
    {
      "cell_type": "code",
      "metadata": {
        "id": "Il1i80mAeqKF"
      },
      "source": [
        "#SAVE CELL\n",
        "wildfire_model.save(relevant_path)"
      ],
      "execution_count": 113,
      "outputs": []
    },
    {
      "cell_type": "markdown",
      "metadata": {
        "id": "Mpy3mEwjKxNM"
      },
      "source": [
        "This concludes the notebook."
      ]
    }
  ]
}
